{
 "cells": [
  {
   "cell_type": "code",
   "execution_count": 1,
   "metadata": {},
   "outputs": [],
   "source": [
    "root_dir = \"../../Downloads/GENOME540/\"\n",
    "read_count_path = root_dir + \"chm13.chr16.txt\""
   ]
  },
  {
   "cell_type": "code",
   "execution_count": 2,
   "metadata": {},
   "outputs": [],
   "source": [
    "import numpy as np\n",
    "\n",
    "def read_rc(filename):\n",
    "    return np.loadtxt(filename, usecols=(2,))\n",
    "\n",
    "true_read_count = read_rc(read_count_path)\n",
    "true_read_count = np.array([3 if x > 3 else x for x in true_read_count], dtype=\"int16\")"
   ]
  },
  {
   "cell_type": "code",
   "execution_count": 3,
   "metadata": {},
   "outputs": [],
   "source": [
    "score_scheme, D, S = {0: -0.1077, 1: 0.4772, 2: 1.0622, 3: 1.6748}, -20.0, 20.0   # from hw 6\n",
    "\n",
    "def find_dsegs(read_counts, scoring_scheme, d, s):\n",
    "\n",
    "    scorez = [scoring_scheme[n] for n in read_counts]\n",
    "\n",
    "    cumulative = maximum = start = 0\n",
    "    for i in range(len(scorez)):\n",
    "        cumulative += scorez[i]\n",
    "        if cumulative >= maximum:\n",
    "            maximum = cumulative\n",
    "            end = i\n",
    "        if cumulative <= 0 or cumulative <= maximum + d or i == len(scorez)-1:\n",
    "            if maximum >= s:\n",
    "                yield start, end, maximum\n",
    "            cumulative = maximum = 0\n",
    "            start = end = i + 1\n",
    "\n",
    "elevated = list(find_dsegs(true_read_count, score_scheme, D, S))"
   ]
  },
  {
   "cell_type": "code",
   "execution_count": 4,
   "metadata": {},
   "outputs": [],
   "source": [
    "N_CORRECTION = 8422401 # number of Ns in chr16\n",
    "\n",
    "def calc_y_0(read_counts):\n",
    "\n",
    "    chrom_size = read_counts.shape[0]\n",
    "    adj_chrom_size = chrom_size - N_CORRECTION\n",
    "\n",
    "    _, counts = np.unique(np.sort(read_counts)[N_CORRECTION:], return_counts=True)\n",
    "    return counts / adj_chrom_size\n",
    "\n",
    "back_freq = calc_y_0(true_read_count)"
   ]
  },
  {
   "cell_type": "code",
   "execution_count": 5,
   "metadata": {},
   "outputs": [],
   "source": [
    "def calc_y_1(read_counts, elev):\n",
    "\n",
    "    elev_size = 0\n",
    "    y_1 = np.arange(4)\n",
    "    for elevated_seq in elev:\n",
    "        elev_seq = read_counts[elevated_seq[0]: elevated_seq[1]]\n",
    "        y_1 += np.bincount(elev_seq, minlength=4)\n",
    "        elev_size += elev_seq.shape[0]\n",
    "\n",
    "    return y_1 / elev_size\n",
    "\n",
    "elev_freq = calc_y_1(true_read_count, elevated)"
   ]
  },
  {
   "cell_type": "code",
   "execution_count": 6,
   "metadata": {},
   "outputs": [
    {
     "data": {
      "text/plain": [
       "{0: -0.21493818245357393,\n",
       " 1: 0.7374806665383026,\n",
       " 2: 1.7410234387472736,\n",
       " 3: 4.64836450998296}"
      ]
     },
     "execution_count": 6,
     "metadata": {},
     "output_type": "execute_result"
    }
   ],
   "source": [
    "def create_scoring_scheme(y_0, y_1):\n",
    "\n",
    "    weights = np.log2(y_1 / y_0)\n",
    "    scoring_scheme = dict(zip([0,1,2,3], weights))\n",
    "\n",
    "    return scoring_scheme\n",
    "\n",
    "new_score_scheme = create_scoring_scheme(back_freq, elev_freq)\n",
    "new_score_scheme"
   ]
  },
  {
   "cell_type": "code",
   "execution_count": 7,
   "metadata": {},
   "outputs": [
    {
     "name": "stdout",
     "output_type": "stream",
     "text": [
      "Background frequencies:\n",
      "0=0.8773\n",
      "1=0.1126\n",
      "2=0.0090\n",
      ">=3=0.0010\n",
      "\n",
      "Target frequencies:\n",
      "0=0.7559\n",
      "1=0.1878\n",
      "2=0.0300\n",
      ">=3=0.0263\n",
      "\n",
      "Scoring scheme:\n",
      "0=-0.2149\n",
      "1=0.7375\n",
      "2=1.7410\n",
      ">=3=4.6484\n"
     ]
    }
   ],
   "source": [
    "print(\"Background frequencies:\")\n",
    "print(f\"0={back_freq[0]:.4f}\")\n",
    "print(f\"1={back_freq[1]:.4f}\")\n",
    "print(f\"2={back_freq[2]:.4f}\")\n",
    "print(f\">=3={back_freq[3]:.4f}\")\n",
    "\n",
    "print(\"\\nTarget frequencies:\")\n",
    "print(f\"0={elev_freq[0]:.4f}\")\n",
    "print(f\"1={elev_freq[1]:.4f}\")\n",
    "print(f\"2={elev_freq[2]:.4f}\")\n",
    "print(f\">=3={elev_freq[3]:.4f}\")\n",
    "\n",
    "print(\"\\nScoring scheme:\")\n",
    "print(f\"0={new_score_scheme[0]:.4f}\")\n",
    "print(f\"1={new_score_scheme[1]:.4f}\")\n",
    "print(f\"2={new_score_scheme[2]:.4f}\")\n",
    "print(f\">=3={new_score_scheme[3]:.4f}\")"
   ]
  },
  {
   "cell_type": "code",
   "execution_count": 8,
   "metadata": {},
   "outputs": [],
   "source": [
    "sim_read_count = np.digitize(np.random.random(size=len(true_read_count) - N_CORRECTION), np.cumsum(back_freq))"
   ]
  },
  {
   "cell_type": "code",
   "execution_count": 9,
   "metadata": {},
   "outputs": [],
   "source": [
    "D, S = -5.0, 5.0\n",
    "true_dsegs = list(find_dsegs(true_read_count, new_score_scheme, D, S))\n",
    "sim_dsegs = list(find_dsegs(sim_read_count, new_score_scheme, D, S))"
   ]
  },
  {
   "cell_type": "code",
   "execution_count": 10,
   "metadata": {},
   "outputs": [
    {
     "name": "stdout",
     "output_type": "stream",
     "text": [
      "Real data:\n",
      "5 71010\n",
      "6 39190\n",
      "7 22407\n",
      "8 13844\n",
      "9 9210\n",
      "10 6542\n",
      "11 4935\n",
      "12 3952\n",
      "13 3326\n",
      "14 2852\n",
      "15 2508\n",
      "16 2234\n",
      "17 2065\n",
      "18 1895\n",
      "19 1746\n",
      "20 1619\n",
      "21 1536\n",
      "22 1456\n",
      "23 1372\n",
      "24 1306\n",
      "25 1236\n",
      "26 1176\n",
      "27 1127\n",
      "28 1083\n",
      "29 1024\n",
      "30 984\n",
      "\n",
      "Simulated data:\n",
      "5 79588\n",
      "6 38909\n",
      "7 18421\n",
      "8 9106\n",
      "9 4655\n",
      "10 2337\n",
      "11 1136\n",
      "12 548\n",
      "13 266\n",
      "14 136\n",
      "15 65\n",
      "16 32\n",
      "17 17\n",
      "18 9\n",
      "19 6\n",
      "20 2\n",
      "21 0\n",
      "22 0\n",
      "23 0\n",
      "24 0\n",
      "25 0\n",
      "26 0\n",
      "27 0\n",
      "28 0\n",
      "29 0\n",
      "30 0\n",
      "\n",
      "Ratios of real data:\n",
      "N_seg(5)/N_seg(6) 1.81\n",
      "N_seg(6)/N_seg(7) 1.75\n",
      "N_seg(7)/N_seg(8) 1.62\n",
      "N_seg(8)/N_seg(9) 1.50\n",
      "N_seg(9)/N_seg(10) 1.41\n",
      "N_seg(10)/N_seg(11) 1.33\n",
      "N_seg(11)/N_seg(12) 1.25\n",
      "N_seg(12)/N_seg(13) 1.19\n",
      "N_seg(13)/N_seg(14) 1.17\n",
      "N_seg(14)/N_seg(15) 1.14\n",
      "N_seg(15)/N_seg(16) 1.12\n",
      "N_seg(16)/N_seg(17) 1.08\n",
      "N_seg(17)/N_seg(18) 1.09\n",
      "N_seg(18)/N_seg(19) 1.09\n",
      "N_seg(19)/N_seg(20) 1.08\n",
      "N_seg(20)/N_seg(21) 1.05\n",
      "N_seg(21)/N_seg(22) 1.05\n",
      "N_seg(22)/N_seg(23) 1.06\n",
      "N_seg(23)/N_seg(24) 1.05\n",
      "N_seg(24)/N_seg(25) 1.06\n",
      "N_seg(25)/N_seg(26) 1.05\n",
      "N_seg(26)/N_seg(27) 1.04\n",
      "N_seg(27)/N_seg(28) 1.04\n",
      "N_seg(28)/N_seg(29) 1.06\n",
      "N_seg(29)/N_seg(30) 1.04\n",
      "\n",
      "Ratios of simulated data:\n",
      "N_seg(5)/N_seg(6) 2.05\n",
      "N_seg(6)/N_seg(7) 2.11\n",
      "N_seg(7)/N_seg(8) 2.02\n",
      "N_seg(8)/N_seg(9) 1.96\n",
      "N_seg(9)/N_seg(10) 1.99\n",
      "N_seg(10)/N_seg(11) 2.06\n",
      "N_seg(11)/N_seg(12) 2.07\n",
      "N_seg(12)/N_seg(13) 2.06\n",
      "N_seg(13)/N_seg(14) 1.96\n",
      "N_seg(14)/N_seg(15) 2.09\n",
      "N_seg(15)/N_seg(16) 2.03\n",
      "N_seg(16)/N_seg(17) 1.88\n",
      "N_seg(17)/N_seg(18) 1.89\n",
      "N_seg(18)/N_seg(19) 1.50\n",
      "N_seg(19)/N_seg(20) 3.00\n",
      "N_seg(20)/N_seg(21) -1.00\n",
      "N_seg(21)/N_seg(22) -1.00\n",
      "N_seg(22)/N_seg(23) -1.00\n",
      "N_seg(23)/N_seg(24) -1.00\n",
      "N_seg(24)/N_seg(25) -1.00\n",
      "N_seg(25)/N_seg(26) -1.00\n",
      "N_seg(26)/N_seg(27) -1.00\n",
      "N_seg(27)/N_seg(28) -1.00\n",
      "N_seg(28)/N_seg(29) -1.00\n",
      "N_seg(29)/N_seg(30) -1.00\n"
     ]
    }
   ],
   "source": [
    "def count_by_score(arr, score):\n",
    "    return sum(1 for _, _, s in arr if s >= score)\n",
    "\n",
    "def display_dseg_stats(dsegs1, dsegs2):\n",
    "\n",
    "    print(\"Real data:\")\n",
    "    for s in range(5, 31):\n",
    "        print(s, count_by_score(dsegs1, s))\n",
    "\n",
    "    print(\"\\nSimulated data:\")\n",
    "    for s in range(5, 31):\n",
    "        print(s, count_by_score(dsegs2, s))\n",
    "\n",
    "    print(\"\\nRatios of real data:\")\n",
    "    for s in range(5, 30):\n",
    "        denom = count_by_score(dsegs1, s+1)\n",
    "        if denom == 0:\n",
    "            ratio = -1\n",
    "        else:\n",
    "            ratio = count_by_score(dsegs1, s) / denom\n",
    "\n",
    "        print(f\"N_seg({s})/N_seg({s+1}) {ratio:.2f}\")\n",
    "\n",
    "    print(\"\\nRatios of simulated data:\")\n",
    "    for s in range(5, 30):\n",
    "        denom = count_by_score(dsegs2, s+1)\n",
    "        if denom == 0:\n",
    "            ratio = -1\n",
    "        else:\n",
    "            ratio = count_by_score(dsegs2, s) / denom\n",
    "\n",
    "        print(f\"N_seg({s})/N_seg({s+1}) {ratio:.2f}\")\n",
    "\n",
    "display_dseg_stats(true_dsegs, sim_dsegs)"
   ]
  },
  {
   "cell_type": "code",
   "execution_count": 19,
   "metadata": {},
   "outputs": [
    {
     "data": {
      "image/png": "[encoded data removed]",
      "text/plain": [
       "<Figure size 2000x500 with 1 Axes>"
      ]
     },
     "metadata": {},
     "output_type": "display_data"
    }
   ],
   "source": [
    "import matplotlib.pyplot as plt\n",
    "\n",
    "plt.figure(figsize=(20, 5))\n",
    "plt.style.use('seaborn-v0_8-whitegrid')\n",
    "plt.hist([x[-1] for x in true_dsegs if x[-1]<=25], bins=25, facecolor='#2ab0ff', edgecolor='#169acf', linewidth=0.5)\n",
    "plt.show()"
   ]
  },
  {
   "cell_type": "code",
   "execution_count": 20,
   "metadata": {},
   "outputs": [
    {
     "data": {
      "image/png": "[encoded data removed]",
      "text/plain": [
       "<Figure size 2000x500 with 1 Axes>"
      ]
     },
     "metadata": {},
     "output_type": "display_data"
    }
   ],
   "source": [
    "plt.figure(figsize=(20, 5))\n",
    "plt.style.use('seaborn-v0_8-whitegrid')\n",
    "plt.hist([x[-1] for x in sim_dsegs if x[-1]<=20], bins=20, facecolor='#2ab0ff', edgecolor='#169acf', linewidth=0.5)\n",
    "plt.show()"
   ]
  },
  {
   "cell_type": "code",
   "execution_count": null,
   "metadata": {},
   "outputs": [],
   "source": []
  }
 ],
 "metadata": {
  "kernelspec": {
   "display_name": "deep-learning-env",
   "language": "python",
   "name": "python3"
  },
  "language_info": {
   "codemirror_mode": {
    "name": "ipython",
    "version": 3
   },
   "file_extension": ".py",
   "mimetype": "text/x-python",
   "name": "python",
   "nbconvert_exporter": "python",
   "pygments_lexer": "ipython3",
   "version": "3.8.15"
  },
  "orig_nbformat": 4,
  "vscode": {
   "interpreter": {
    "hash": "31c816c56b3f001d803f5818cb31842c102a89c21941618a472b08849d47f2d3"
   }
  }
 },
 "nbformat": 4,
 "nbformat_minor": 2
}
