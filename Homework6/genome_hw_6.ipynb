{
 "cells": [
  {
   "cell_type": "code",
   "execution_count": 1,
   "metadata": {},
   "outputs": [],
   "source": [
    "root_dir = \"../../Downloads/GENOME540/\"\n",
    "read_count_path = root_dir + \"chm13.chr16.txt\"\n",
    "scoring_scheme_path = root_dir + \"dseg_score_scheme.txt\"\n",
    "test_read_count_path = root_dir + \"test_dseg_read_count.txt\"\n",
    "test_scoring_scheme_path = root_dir + \"test_dseg_score_scheme.txt\""
   ]
  },
  {
   "cell_type": "code",
   "execution_count": 2,
   "metadata": {},
   "outputs": [],
   "source": [
    "import numpy as np\n",
    "\n",
    "def read_rc(filename):\n",
    "    return np.loadtxt(filename, usecols=(2,))\n",
    "\n",
    "read_count = read_rc(read_count_path)"
   ]
  },
  {
   "cell_type": "code",
   "execution_count": 3,
   "metadata": {},
   "outputs": [
    {
     "data": {
      "text/plain": [
       "0.14936377712374954"
      ]
     },
     "execution_count": 3,
     "metadata": {},
     "output_type": "execute_result"
    }
   ],
   "source": [
    "N_CORRECTION = 8422401 # number of Ns in chr16\n",
    "ADJ_CHROM_SIZE = read_count.shape[0] - N_CORRECTION\n",
    "ADJ_MEAN_COUNT = np.sum(read_count) / ADJ_CHROM_SIZE\n",
    "ADJ_MEAN_COUNT"
   ]
  },
  {
   "cell_type": "code",
   "execution_count": 4,
   "metadata": {},
   "outputs": [
    {
     "name": "stdout",
     "output_type": "stream",
     "text": [
      "X (counts):\t[0 1 2 3]\n",
      "Background:\t[70455754 10523537   785917    39129]\n",
      "Elevated CN:\t[65385664 14649374  1641064   122557]\n"
     ]
    }
   ],
   "source": [
    "from scipy.stats import poisson\n",
    "\n",
    "# compute means of model Poisson distributions\n",
    "mu_0 = ADJ_MEAN_COUNT\n",
    "mu_1 = ADJ_MEAN_COUNT * 1.5\n",
    "\n",
    "# create model Poisson distributions given N observed\n",
    "x = np.arange(4)\n",
    "y_0 = (poisson.pmf(mu=mu_0, k=x) * ADJ_CHROM_SIZE).astype(\"int64\")\n",
    "y_1 = (poisson.pmf(mu=mu_1, k=x) * ADJ_CHROM_SIZE).astype(\"int64\")\n",
    "\n",
    "print(f\"X (counts):\\t{x}\")\n",
    "print(f\"Background:\\t{y_0}\")\n",
    "print(f\"Elevated CN:\\t{y_1}\")"
   ]
  },
  {
   "cell_type": "code",
   "execution_count": 5,
   "metadata": {},
   "outputs": [
    {
     "name": "stdout",
     "output_type": "stream",
     "text": [
      "X (counts):\t[0 1 2 3]\n",
      "Background:\t[0.8613, 0.1286, 0.0096, 0.0005]\n",
      "Elevated CN:\t[0.7993, 0.1791, 0.0201, 0.0016]\n",
      "\n",
      "Weights:\t[-0.1077  0.4772  1.0622  1.6748]\n"
     ]
    }
   ],
   "source": [
    "# compute means of model Poisson distributions\n",
    "mu_0 = ADJ_MEAN_COUNT\n",
    "mu_1 = ADJ_MEAN_COUNT * 1.5\n",
    "\n",
    "# create model Poisson distributions given N observed\n",
    "x = np.arange(4)\n",
    "y_0 = poisson.pmf(mu=mu_0, k=x)\n",
    "y_1 = poisson.pmf(mu=mu_1, k=x)\n",
    "\n",
    "# truncate distributions\n",
    "y_0[-1] += 1.0 - np.sum(y_0)\n",
    "y_1[-1] += 1.0 - np.sum(y_1)\n",
    "\n",
    "# compute LLR scoring scheme\n",
    "weights = np.log2(y_1 / y_0)\n",
    "\n",
    "print(f\"X (counts):\\t{x}\")\n",
    "print(f\"Background:\\t{[y.round(4) for y in y_0]}\")\n",
    "print(f\"Elevated CN:\\t{[y.round(4) for y in y_1]}\")\n",
    "print(f\"\\nWeights:\\t{weights.round(4)}\")"
   ]
  },
  {
   "cell_type": "code",
   "execution_count": 6,
   "metadata": {},
   "outputs": [
    {
     "data": {
      "text/plain": [
       "({0: -0.1077, 1: 0.4772, 2: 1.0622, 3: 1.6748}, -20.0, 20.0)"
      ]
     },
     "execution_count": 6,
     "metadata": {},
     "output_type": "execute_result"
    }
   ],
   "source": [
    "def read_score_scheme(filename):\n",
    "    score_scheme = {}\n",
    "    d = None\n",
    "    s = None\n",
    "    with open(filename, \"r\") as f:\n",
    "        for line in f:\n",
    "            line = line.split()\n",
    "            if line[0] == \">=\":\n",
    "                score_scheme[int(line[1])] = float(line[2])\n",
    "            elif line[0] == \"D\":\n",
    "                d = float(line[1])\n",
    "                s = -d\n",
    "            elif line[0] == \"S\":\n",
    "                s = float(line[1])\n",
    "            else:\n",
    "                score_scheme[int(line[0])] = float(line[1])\n",
    "\n",
    "    return score_scheme, d, s\n",
    "\n",
    "score_scheme, D, S = read_score_scheme(scoring_scheme_path)\n",
    "score_scheme, D, S"
   ]
  },
  {
   "cell_type": "code",
   "execution_count": 7,
   "metadata": {},
   "outputs": [],
   "source": [
    "threshold = max(score_scheme.keys())\n",
    "scores = [score_scheme[threshold] if n > threshold else score_scheme[n] for n in read_count]"
   ]
  },
  {
   "cell_type": "code",
   "execution_count": 8,
   "metadata": {},
   "outputs": [],
   "source": [
    "def find_dsegs(scorez, d, s):\n",
    "\n",
    "    cumulative = maximum = start = 0\n",
    "    for i in range(len(scorez)):\n",
    "        cumulative += scorez[i]\n",
    "        if cumulative >= maximum:\n",
    "            maximum = cumulative\n",
    "            end = i\n",
    "        if cumulative <= 0 or cumulative <= maximum + d or i == len(scorez)-1:\n",
    "            if maximum >= s:\n",
    "                yield start, end, maximum\n",
    "            cumulative = maximum = 0\n",
    "            start = end = i + 1"
   ]
  },
  {
   "cell_type": "code",
   "execution_count": 9,
   "metadata": {},
   "outputs": [],
   "source": [
    "def get_background(elevated_tuples, scorez):\n",
    "\n",
    "    background_tuples = []\n",
    "\n",
    "    start, _, _ = elevated_tuples[0]\n",
    "    if start > 0:\n",
    "        background_tuples.append((0, start - 1))\n",
    "\n",
    "    for i in range(len(elevated_tuples) - 1):\n",
    "        start, stop, _= elevated_tuples[i]\n",
    "        next_start, _, _ = elevated_tuples[i + 1]\n",
    "\n",
    "        if next_start > stop:\n",
    "            background_tuples.append((stop + 1, next_start - 1))\n",
    "\n",
    "    _, stop, _ = elevated_tuples[-1]\n",
    "    if stop < len(scorez) - 1:\n",
    "        background_tuples.append((stop + 1, len(scorez) - 1))\n",
    "\n",
    "    return background_tuples"
   ]
  },
  {
   "cell_type": "code",
   "execution_count": null,
   "metadata": {},
   "outputs": [],
   "source": [
    "def get_segs(scorez, d, s):\n",
    "\n",
    "    elevated = list(find_dsegs(scorez, d, s))\n",
    "    background = get_background(elevated, scorez)\n",
    "\n",
    "    print(\"Segment Histogram:\")\n",
    "    print(\"Non-Elevated CN Segments=\" + str(len(background)))\n",
    "    print(\"Elevated CN Segments=\" + str(len(elevated)))\n",
    "\n",
    "    print(\"\\nSegment List:\")\n",
    "    for i in range(len(elevated)):\n",
    "        print(elevated[i][0]+1, elevated[i][1]+1, f'{elevated[i][2]:.2f}')\n",
    "\n",
    "    return background, elevated\n",
    "\n",
    "back, elev = get_segs(scores, D, S)"
   ]
  },
  {
   "cell_type": "code",
   "execution_count": 11,
   "metadata": {},
   "outputs": [
    {
     "name": "stdout",
     "output_type": "stream",
     "text": [
      "Annotations:\n",
      "\n",
      "Start: 46380682\n",
      "End: 46402215\n",
      "Description: \n",
      "\n",
      "Start: 34584619\n",
      "End: 34596484\n",
      "Description: \n",
      "\n",
      "Start: 70121519\n",
      "End: 70167147\n",
      "Description: \n"
     ]
    }
   ],
   "source": [
    "def display_degs(segs):\n",
    "    print(\"Annotations:\")\n",
    "    sorted_segs = sorted(segs, key=lambda x: x[2], reverse=True)\n",
    "    for start, end, _ in sorted_segs[:3]:\n",
    "        print(\"\\nStart:\", start+1)\n",
    "        print(\"End:\", end+1)\n",
    "        print(\"Description: \")\n",
    "\n",
    "display_degs(elev)"
   ]
  },
  {
   "attachments": {},
   "cell_type": "markdown",
   "metadata": {},
   "source": [
    "Descriptions from UCSC genome browser --> https://genome.ucsc.edu/cgi-bin/hgGateway\n",
    "\n",
    "Position/Search Term\n",
    "\n",
    "chr16: 46380682-46402215 --> no annotated gene\n",
    "\n",
    "chr16: 34584619-34596484 --> no annotated gene\n",
    "\n",
    "chr16: 70121519-70167147 --> contains PDPR gene which encodes the pyruvate dehydrogenase phosphatase regulatory subunit) --> Pyruvate dehydrogenase complex (PDC) catalyzes the oxidative decarboxylation of pyruvate and links glycolysis to the tricarboxylic acid cycle and fatty acid synthesis. The dephosphorylation and reactivation of PDC is catalyzed by pyruvate dehydrogenase phosphatase (PDP). The dimeric PDP has a catalytic subunit and a regulatory subunit. This gene encodes the FAD-containing regulatory subunit of PDP. The encoded protein acts to decrease the sensitivity of the PDP catalytic subunit to magnesium ions. Alternative splicing results in multiple transcript variants encoding different isoforms. --> Pyruvate dehydrogenase is a complex of enzymes that is important in the conversion of pyruvate to acetyl-CoA, a key step in energy metabolism. The activity of pyruvate dehydrogenase is regulated by phosphorylation and dephosphorylation, and the PDPR protein is an important regulator of this process. The PDPR protein binds to and activates the pyruvate dehydrogenase phosphatase enzyme, which removes phosphate groups from pyruvate dehydrogenase to activate it. This allows for the efficient conversion of pyruvate to acetyl-CoA, which can then be used in the citric acid cycle to generate ATP, the main source of energy for cells. Mutations in the PDPR gene have been linked to a rare genetic disorder called pyruvate dehydrogenase phosphatase deficiency. This condition affects the activity of the pyruvate dehydrogenase complex, leading to a range of symptoms including developmental delay, muscle weakness, and seizures."
   ]
  },
  {
   "cell_type": "code",
   "execution_count": 12,
   "metadata": {},
   "outputs": [
    {
     "name": "stdout",
     "output_type": "stream",
     "text": [
      "Read start histogram for non-elevated copy-number segments:\n",
      "0=79164784\n",
      "1=8959527\n",
      "2=694340\n",
      ">=3=49971\n",
      "\n",
      "Read start histogram for elevated copy-number segments:\n",
      "0=1027142\n",
      "1=255838\n",
      "2=40942\n",
      ">=3=35702\n"
     ]
    }
   ],
   "source": [
    "def read_start_hist(background, elevated):\n",
    "\n",
    "    background_hist = [0, 0, 0, 0]\n",
    "    elevated_hist = [0, 0, 0, 0]\n",
    "\n",
    "    for i in range(len(background)):\n",
    "        start, end = background[i]\n",
    "\n",
    "        for j in range(start, end + 1):\n",
    "            if read_count[j] == 0:\n",
    "                background_hist[0] += 1\n",
    "            elif read_count[j] == 1:\n",
    "                background_hist[1] += 1\n",
    "            elif read_count[j] == 2:\n",
    "                background_hist[2] += 1\n",
    "            else:\n",
    "                background_hist[3] += 1\n",
    "\n",
    "    for i in range(len(elevated)):\n",
    "        start, end, _ = elevated[i]\n",
    "\n",
    "        for j in range(start, end + 1):\n",
    "            if read_count[j] == 0:\n",
    "                elevated_hist[0] += 1\n",
    "            elif read_count[j] == 1:\n",
    "                elevated_hist[1] += 1\n",
    "            elif read_count[j] == 2:\n",
    "                elevated_hist[2] += 1\n",
    "            else:\n",
    "                elevated_hist[3] += 1\n",
    "\n",
    "    print(\"Read start histogram for non-elevated copy-number segments:\")\n",
    "    print(\"0=\" + str(background_hist[0]))\n",
    "    print(\"1=\" + str(background_hist[1]))\n",
    "    print(\"2=\" + str(background_hist[2]))\n",
    "    print(\">=3=\" + str(background_hist[3]))\n",
    "\n",
    "    print(\"\\nRead start histogram for elevated copy-number segments:\")\n",
    "    print(\"0=\" + str(elevated_hist[0]))\n",
    "    print(\"1=\" + str(elevated_hist[1]))\n",
    "    print(\"2=\" + str(elevated_hist[2]))\n",
    "    print(\">=3=\" + str(elevated_hist[3]))\n",
    "\n",
    "read_start_hist(back, elev)"
   ]
  },
  {
   "cell_type": "code",
   "execution_count": 14,
   "metadata": {},
   "outputs": [
    {
     "data": {
      "image/png": "[encoded data removed]",
      "text/plain": [
       "<Figure size 2000x500 with 1 Axes>"
      ]
     },
     "metadata": {},
     "output_type": "display_data"
    }
   ],
   "source": [
    "import matplotlib.pyplot as plt\n",
    "\n",
    "def plot_dsegs(segs, scorez):\n",
    "    fig, ax = plt.subplots(figsize=(20, 5))\n",
    "    ax.plot(scorez, color='#2ab0ff')\n",
    "    for start, end, _ in segs:\n",
    "        ax.axvspan(start, end, alpha=0.2, color=\"red\")\n",
    "    plt.show()\n",
    "\n",
    "plot_dsegs(elev, scores)"
   ]
  },
  {
   "cell_type": "code",
   "execution_count": null,
   "metadata": {},
   "outputs": [],
   "source": []
  }
 ],
 "metadata": {
  "kernelspec": {
   "display_name": "deep-learning-env",
   "language": "python",
   "name": "python3"
  },
  "language_info": {
   "codemirror_mode": {
    "name": "ipython",
    "version": 3
   },
   "file_extension": ".py",
   "mimetype": "text/x-python",
   "name": "python",
   "nbconvert_exporter": "python",
   "pygments_lexer": "ipython3",
   "version": "3.8.15"
  },
  "orig_nbformat": 4,
  "vscode": {
   "interpreter": {
    "hash": "31c816c56b3f001d803f5818cb31842c102a89c21941618a472b08849d47f2d3"
   }
  }
 },
 "nbformat": 4,
 "nbformat_minor": 2
}
